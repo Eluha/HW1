{
 "cells": [
  {
   "cell_type": "markdown",
   "id": "69509e30",
   "metadata": {},
   "source": [
    "<!-- Задание 1 -->"
   ]
  },
  {
   "cell_type": "markdown",
   "id": "25d0f5de",
   "metadata": {},
   "source": [
    "## Задание 1 \n",
    "Дана переменная, в которой хранится слово из латинских букв. Напишите код, который выводит на экран:\n",
    "· среднюю букву, если число букв в слове нечетное;\n",
    "· две средних буквы, если число букв четное.\n",
    "Примеры работы программы:\n",
    "1.word = 'test’\n",
    "Результат:\n",
    "es\n",
    "1.word = 'testing’\n",
    "Результат:\n",
    "t\n"
   ]
  },
  {
   "cell_type": "code",
   "execution_count": 3,
   "id": "e10fd3d2",
   "metadata": {},
   "outputs": [
    {
     "name": "stdout",
     "output_type": "stream",
     "text": [
      "es\n",
      "t\n"
     ]
    },
    {
     "data": {
      "text/plain": [
       "'t'"
      ]
     },
     "execution_count": 3,
     "metadata": {},
     "output_type": "execute_result"
    }
   ],
   "source": [
    "def letters_out(word):\n",
    "    if len(word) % 2 == 0:\n",
    "        result = word[len(word) // 2 - 1] + word[len(word) // 2]\n",
    "    else:\n",
    "        result = word[len(word) // 2]\n",
    "    print(result)\n",
    "    return result\n",
    "letters_out('test')\n",
    "letters_out('testing')"
   ]
  },
  {
   "cell_type": "markdown",
   "id": "b02497fe",
   "metadata": {},
   "source": [
    "## Задание 2 \n",
    "Задание 2\n",
    "Напишите программу, которая последовательно запрашивает у пользователя числа (по одному за раз) и \n",
    "после первого нуля выводит сумму всех ранее введенных чисел.Примеры работы программы:\n",
    "Введите число:\n",
    "1\n",
    "Введите число:\n",
    "4\n",
    "Введите число:\n",
    "6\n",
    "Введите число:\n",
    "0\n",
    "Результат:\n",
    "11\n",
    "Введите число:\n",
    "0\n",
    "Результат:\n",
    "0"
   ]
  },
  {
   "cell_type": "code",
   "execution_count": 5,
   "id": "70a463ef",
   "metadata": {},
   "outputs": [
    {
     "name": "stdout",
     "output_type": "stream",
     "text": [
      "Данный код складывает все введенные Вами числа и складывает их, если Вы введете 0\n",
      "Введите число: 1\n",
      "Введите число: 6\n",
      "Введите число: 4\n",
      "Введите число: 0\n",
      "11\n"
     ]
    },
    {
     "data": {
      "text/plain": [
       "11"
      ]
     },
     "execution_count": 5,
     "metadata": {},
     "output_type": "execute_result"
    }
   ],
   "source": [
    "def give_me_num():\n",
    "    count = 0\n",
    "    print(\"Данный код складывает все введенные Вами числа и складывает их, если Вы введете 0\")\n",
    "    while True:\n",
    "        num = int(input(\"Введите число: \"))\n",
    "        if num != 0:\n",
    "            count += num\n",
    "        else:\n",
    "            break\n",
    "    print(count)\n",
    "    return count\n",
    "give_me_num()"
   ]
  },
  {
   "cell_type": "markdown",
   "id": "5e1a78e2",
   "metadata": {},
   "source": [
    "## Задание 3\n",
    "Мы делаем  dating-сервиса, и у нас есть список парней и девушек.\n",
    "Выдвигаем гипотезу: лучшие рекомендации мы получим, если просто отсортируем \n",
    "имена по алфавиту и познакомим людей с одинаковыми индексами после сортировки! \n",
    "Но мы не будем никого знакомить, если кто-то может остаться без пары:\n",
    "Примеры работы программы:\n",
    "\n",
    "1.\n",
    "boys = [‘Peter’, ‘Alex’, ‘John’, ‘Arthur’, ‘Richard’]\n",
    "girls = [‘Kate’, ‘Liza’, ‘Kira’, ‘Emma’, ‘Trisha’]\n",
    "Результат:\n",
    "Идеальные пары:\n",
    "Alex и Emma\n",
    "Arthur и Kate\n",
    "John и Kira\n",
    "Peter и Liza\n",
    "Richard и Trisha\n",
    "2.\n",
    "boys = [‘Peter’, ‘Alex’, ‘John’, ‘Arthur’, ‘Richard’, ‘Michael’]\n",
    "girls = [‘Kate’, ‘Liza’, ‘Kira’, ‘Emma’, ‘Trisha’]\n",
    "Результат:\n",
    "Внимание, кто-то может остаться без пары!"
   ]
  },
  {
   "cell_type": "code",
   "execution_count": 6,
   "id": "f4ffece4",
   "metadata": {},
   "outputs": [
    {
     "name": "stdout",
     "output_type": "stream",
     "text": [
      "Идеальный пары:\n",
      "Alex и Emma\n",
      "Arthur и Kate\n",
      "John и Kira\n",
      "Peter и Liza\n",
      "Richard и Trisha\n",
      "Внимание, кто-то может остаться без пары!\n"
     ]
    }
   ],
   "source": [
    "def func_of_love(boys: str,girls: str):\n",
    "    boys.sort()\n",
    "    girls.sort()\n",
    "    if len(boys) == len(girls):\n",
    "        print('Идеальный пары:')\n",
    "        for i in range(len(boys)):\n",
    "            print(boys[i],'и',girls[i])\n",
    "    else:\n",
    "        print('Внимание, кто-то может остаться без пары!')\n",
    "boys = ['Peter', 'Alex', 'John', 'Arthur', 'Richard']\n",
    "girls = ['Kate', 'Liza', 'Kira', 'Emma', 'Trisha']\n",
    "func_of_love(boys,girls)\n",
    "boys = ['Peter', 'Alex', 'John', 'Arthur', 'Richard', 'Michael']\n",
    "girls = ['Kate', 'Liza', 'Kira', 'Emma', 'Trisha']\n",
    "func_of_love(boys,girls)"
   ]
  },
  {
   "cell_type": "markdown",
   "id": "a0abe92a",
   "metadata": {},
   "source": [
    "## Задание 4\n",
    " нас есть список, содержащий информацию о среднедневной температуре в Фаренгейтах за произвольный период по странам (структура данных в примере). \n",
    "Необходимо написать код, который рассчитает среднюю температуру за период в Цельсиях(!) для каждой страны.\n",
    "Пример работы программы:\n",
    "countries_temperature = [\n",
    "[‘Thailand’, [75.2, 77, 78.8, 73.4, 68, 75.2, 77]],\n",
    "[‘Germany’, [57.2, 55.4, 59, 59, 53.6]],\n",
    "[‘Russia’, [35.6, 37.4, 39.2, 41, 42.8, 39.2, 35.6]],\n",
    "[‘Poland’, [50, 50, 53.6, 57.2, 55.4, 55.4]]\n",
    "]\n",
    "Результат:\n",
    "Средняя температура в странах:\n",
    "Thailand - 23.9 С\n",
    "Germany - 13.8 С\n",
    "Russia - 3.7 С\n",
    "Poland - 12.0 С"
   ]
  },
  {
   "cell_type": "code",
   "execution_count": 8,
   "id": "e4931b53",
   "metadata": {},
   "outputs": [
    {
     "name": "stdout",
     "output_type": "stream",
     "text": [
      "Thailand - 23.9 C\n",
      "Germany - 13.8 C\n",
      "Russia - 3.7 C\n",
      "Poland - 12.0 C\n"
     ]
    },
    {
     "data": {
      "text/plain": [
       "[['Thailand', 23.9], ['Germany', 13.8], ['Russia', 3.7], ['Poland', 12.0]]"
      ]
     },
     "execution_count": 8,
     "metadata": {},
     "output_type": "execute_result"
    }
   ],
   "source": [
    "def temp_countries(spisok):\n",
    "    arr = []\n",
    "    for i in range(len(spisok)):\n",
    "        print(spisok[i][0], '-', round((5/9)*((sum(spisok[i][1])/len(spisok[i][1]))-32), 1), 'C')\n",
    "        arr.append([spisok[i][0], round((5/9)*((sum(spisok[i][1])/len(spisok[i][1]))-32), 1)])\n",
    "    return arr\n",
    "\n",
    "temp_countries([\n",
    "['Thailand', [75.2, 77, 78.8, 73.4, 68, 75.2, 77]],\n",
    "['Germany', [57.2, 55.4, 59, 59, 53.6]],\n",
    "['Russia', [35.6, 37.4, 39.2, 41, 42.8, 39.2, 35.6]],\n",
    "['Poland', [50, 50, 53.6, 57.2, 55.4, 55.4]]])"
   ]
  },
  {
   "cell_type": "markdown",
   "id": "72d72600",
   "metadata": {},
   "source": [
    "## Задание 5\n",
    "Дана переменная, в которой хранится словарь, содержащий гео-метки для каждого пользователя (пример структуры данных приведен ниже). \n",
    "Вам необходимо написать программу, которая выведет на экран множество уникальных гео-меток всех пользователей.\n",
    "Пример работы программы:\n",
    "ids = {‘user1’: [213, 213, 213, 15, 213],\n",
    "‘user2’: [54, 54, 119, 119, 119],\n",
    "‘user3’: [213, 98, 98, 35]}\n",
    "Результат: {98, 35, 15, 213, 54, 119}"
   ]
  },
  {
   "cell_type": "code",
   "execution_count": 10,
   "id": "f4f052c3",
   "metadata": {},
   "outputs": [
    {
     "data": {
      "text/plain": [
       "{15, 35, 54, 98, 119, 213}"
      ]
     },
     "execution_count": 10,
     "metadata": {},
     "output_type": "execute_result"
    }
   ],
   "source": [
    "def uniq_data(dictionary):\n",
    "    result = []\n",
    "    for el in dictionary:\n",
    "        result += dictionary[el]\n",
    "    result = set(result)\n",
    "    return result\n",
    "\n",
    "ids = {'user1': [213, 213, 213, 15, 213],\n",
    "       'user2': [54, 54, 119, 119, 119],\n",
    "       'user3': [213, 98, 98, 35]}\n",
    "uniq_data(ids)"
   ]
  },
  {
   "cell_type": "markdown",
   "id": "62ddbc86",
   "metadata": {},
   "source": [
    "## Задание 6\n",
    "Дана переменная, в которой хранится список поисковых запросов пользователя (пример структуры данных приведен ниже). \n",
    "Вам необходимо написать программу, которая выведет на экран распределение количества слов в запросах в требуемом виде.\n",
    "Пример работы программы:\n",
    "queries = [\n",
    "‘смотреть сериалы онлайн’,\n",
    "‘новости спорта’,\n",
    "‘афиша кино’,\n",
    "‘курс доллара’,\n",
    "‘сериалы этим летом’,\n",
    "‘курс по питону’,\n",
    "‘сериалы про спорт’,\n",
    "]\n",
    "Результат:\n",
    "Поисковых запросов, содержащих 2 слов(а): 42.86%\n",
    "Поисковых запросов, содержащих 3 слов(а): 57.14%"
   ]
  },
  {
   "cell_type": "code",
   "execution_count": 11,
   "id": "b3832722",
   "metadata": {},
   "outputs": [
    {
     "name": "stdout",
     "output_type": "stream",
     "text": [
      "Поисковых запросов, содержащих 2 слов(а): 42.86% \n",
      "Поисковых запросов, содержащих 3 слов(а): 57.14%\n"
     ]
    },
    {
     "data": {
      "text/plain": [
       "('Поисковых запросов, содержащих 2 слов(а): 42.86%',\n",
       " 'Поисковых запросов, содержащих 3 слов(а): 57.14%')"
      ]
     },
     "execution_count": 11,
     "metadata": {},
     "output_type": "execute_result"
    }
   ],
   "source": [
    "from re import findall\n",
    "\n",
    "def num_of_words(arr):\n",
    "    count1 = 0\n",
    "    count2 = 0\n",
    "    for el in arr:\n",
    "        if len(findall('[А-Яа-я]+', el)) == 3:\n",
    "            count1 += 1\n",
    "        elif len(findall('[А-Яа-я]+', el)) == 2:\n",
    "            count2 += 1\n",
    "    print(f\"Поисковых запросов, содержащих 2 слов(а): {round(count2 / len(arr) * 100, 2)}%\",\n",
    "          f\"\\nПоисковых запросов, содержащих 3 слов(а): {round(count1/len(arr)*100, 2)}%\")\n",
    "    return f\"Поисковых запросов, содержащих 2 слов(а): {round(count2 / len(arr) * 100, 2)}%\", \\\n",
    "           f\"Поисковых запросов, содержащих 3 слов(а): {round(count1/len(arr)*100, 2)}%\"\n",
    "\n",
    "queries = [\n",
    "    'смотреть сериалы онлайн',\n",
    "    'новости спорта',\n",
    "    'афиша кино',\n",
    "    'курс доллара',\n",
    "    'сериалы этим летом',\n",
    "    'курс по питону',\n",
    "    'сериалы про спорт',\n",
    "]\n",
    "num_of_words(queries)"
   ]
  },
  {
   "cell_type": "markdown",
   "id": "c856d8db",
   "metadata": {},
   "source": [
    "## Задание 7\n",
    "Дана переменная, в которой хранится информация о затратах и доходе рекламных кампаний по различным источникам.\n",
    "Необходимо дополнить исходную структуру показателем ROI, который рассчитаем по формуле: (revenue / cost - 1) * 100\n",
    "Пример работы программы:\n",
    "results = {\n",
    "‘vk’: {‘revenue’: 103, ‘cost’: 98},\n",
    "‘yandex’: {‘revenue’: 179, ‘cost’: 153},\n",
    "‘facebook’: {‘revenue’: 103, ‘cost’: 110},\n",
    "‘adwords’: {‘revenue’: 35, ‘cost’: 34},\n",
    "‘twitter’: {‘revenue’: 11, ‘cost’: 24},\n",
    "}\n",
    "Результат:\n",
    "{‘adwords’: {‘revenue’: 35, ‘cost’: 34, ‘ROI’: 2.94},\n",
    "‘facebook’: {‘revenue’: 103, ‘cost’: 110, ‘ROI’: -6.36},\n",
    "‘twitter’: {‘revenue’: 11, ‘cost’: 24, ‘ROI’: -54.17},\n",
    "‘vk’: {‘revenue’: 103, ‘cost’: 98, ‘ROI’: 5.1},\n",
    "‘yandex’: {‘revenue’: 179, ‘cost’: 153, ‘ROI’: 16.99}}"
   ]
  },
  {
   "cell_type": "code",
   "execution_count": 12,
   "id": "0d4c729b",
   "metadata": {},
   "outputs": [
    {
     "data": {
      "text/plain": [
       "{'adwords': {'revenue': 35, 'cost': 34, 'ROI': 2.94},\n",
       " 'facebook': {'revenue': 103, 'cost': 110, 'ROI': -6.36},\n",
       " 'twitter': {'revenue': 11, 'cost': 24, 'ROI': -54.17},\n",
       " 'vk': {'revenue': 103, 'cost': 98, 'ROI': 5.1},\n",
       " 'yandex': {'revenue': 179, 'cost': 153, 'ROI': 16.99}}"
      ]
     },
     "execution_count": 12,
     "metadata": {},
     "output_type": "execute_result"
    }
   ],
   "source": [
    "def func(dictionary):\n",
    "    for key, item in dictionary.items():\n",
    "        item['ROI'] = round((item['revenue'] / item['cost'] - 1) * 100, 2)\n",
    "    dictionary = {x: y for x, y in sorted(dictionary.items())}\n",
    "    return dictionary\n",
    "\n",
    "results = {\n",
    "'vk': {'revenue': 103, 'cost': 98},\n",
    "'yandex': {'revenue': 179, 'cost': 153},\n",
    "'facebook': {'revenue': 103, 'cost': 110},\n",
    "'adwords': {'revenue': 35, 'cost': 34},\n",
    "'twitter': {'revenue': 11, 'cost': 24},\n",
    "}\n",
    "func(results)"
   ]
  },
  {
   "cell_type": "markdown",
   "id": "34399292",
   "metadata": {},
   "source": [
    "## Задание 8\n",
    "Дана переменная, в которой хранится статистика рекламных каналов по объемам продаж \n",
    "(пример структуры данных приведен ниже). Напишите программу, которая возвращает название канала с максимальным объемом продаж.\n",
    "Пример работы программы:\n",
    "stats = {‘facebook’: 55, ‘yandex’: 115, ‘vk’: 120, ‘google’: 99, ‘email’: 42, ‘ok’: 98}\n",
    "Результат: Максимальный объем продаж на рекламном канале: vk"
   ]
  },
  {
   "cell_type": "code",
   "execution_count": 16,
   "id": "053e6354",
   "metadata": {},
   "outputs": [
    {
     "name": "stdout",
     "output_type": "stream",
     "text": [
      "Максимальный объем продаж на рекламном канале: vk\n"
     ]
    },
    {
     "data": {
      "text/plain": [
       "'Максимальный объем продаж на рекламном канале: vk'"
      ]
     },
     "execution_count": 16,
     "metadata": {},
     "output_type": "execute_result"
    }
   ],
   "source": [
    "def func(dict):\n",
    "    print(f'Максимальный объем продаж на рекламном канале: {max(stats, key=stats.get)}')\n",
    "    return f'Максимальный объем продаж на рекламном канале: {max(stats, key=stats.get)}'\n",
    "\n",
    "\n",
    "stats = {'facebook': 55, 'yandex': 115, 'vk': 120, 'google': 99, 'email': 42, 'ok': 98}\n",
    "func(stats)"
   ]
  },
  {
   "cell_type": "code",
   "execution_count": null,
   "id": "16ea1ed9",
   "metadata": {},
   "outputs": [],
   "source": []
  }
 ],
 "metadata": {
  "kernelspec": {
   "display_name": "Python 3 (ipykernel)",
   "language": "python",
   "name": "python3"
  },
  "language_info": {
   "codemirror_mode": {
    "name": "ipython",
    "version": 3
   },
   "file_extension": ".py",
   "mimetype": "text/x-python",
   "name": "python",
   "nbconvert_exporter": "python",
   "pygments_lexer": "ipython3",
   "version": "3.9.7"
  }
 },
 "nbformat": 4,
 "nbformat_minor": 5
}
